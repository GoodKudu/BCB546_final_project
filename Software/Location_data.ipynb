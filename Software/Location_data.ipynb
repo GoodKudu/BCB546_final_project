{
 "cells": [
  {
   "cell_type": "markdown",
   "id": "70b32162",
   "metadata": {},
   "source": [
    "# Location data Python script  \n",
    "\n",
    "## Aim\n",
    "Append location data to a nexus file for use in PopART (Population Analysis with Reticulate Trees)\n",
    "\n",
    "## needed files\n",
    "`locations.csv` - location data provided in supplement of Zhong et al.\n",
    "`polymorphic_sites` - output file generated using DNAsp from `Haplotypes.fasta`\n"
   ]
  },
  {
   "cell_type": "code",
   "execution_count": null,
   "id": "86419542",
   "metadata": {},
   "outputs": [],
   "source": [
    "import pandas as pd"
   ]
  },
  {
   "cell_type": "markdown",
   "id": "004b807f",
   "metadata": {},
   "source": [
    "## Load location data\n",
    "Read in location data from `locations.csv` and trim unneeded information"
   ]
  },
  {
   "cell_type": "code",
   "execution_count": 226,
   "id": "29665458",
   "metadata": {},
   "outputs": [],
   "source": [
    "Zhong_locations_df = pd.read_csv(\"locations.csv\")\n",
    "Zhong_locations_trimmed_df = Zhong_locations_df[['GenBank access no.','GZ','XM','JS','TW','JP','SG','IT','LA01','LA11','NJ','TX','HW']]"
   ]
  },
  {
   "cell_type": "markdown",
   "id": "9e842fec",
   "metadata": {},
   "source": [
    "## `add_location` function\n",
    "<b>Description:</b> Extracts and appends location data to a nexus sequence polymorphism file in a format readable by PopART  \n",
    "  \n",
    "<b>Arguments:</b>  \n",
    "`nexus_file`: the input nexus file containing sequence polymorphism data  \n",
    "`location_df`: a data frame containing location data. The first column should contain names and subsequet columns should contain number of samples for each location.  \n",
    "`ouput_file`: the name of the ouput file you would like to create. if it does not exist it will be created.\n",
    "  \n",
    "<b>Return:</b> an output file that is a copy of the input file with location data appended in a format readable by PopART"
   ]
  },
  {
   "cell_type": "code",
   "execution_count": null,
   "id": "1ae5ef0d",
   "metadata": {},
   "outputs": [],
   "source": [
    "def add_location(nexus_file, location_df, output_file):\n",
    "    # Open input file and output file, copy existing data from input ot output\n",
    "    input_file = open(nexus_file, 'r')\n",
    "    output_file = open(output_file, 'w')\n",
    "    for line in input_file:\n",
    "        output_file.write(line)\n",
    "    \n",
    "    # Calculate the number of locations and extract the location labels\n",
    "    NTRAITS = len(location_df.columns) - 1\n",
    "    TraitLabels = location_df.columns.values[1:]\n",
    "    \n",
    "    # Write file header in format readable by PopART\n",
    "    output_file.write('\\n\\nBEGIN TRAITS;\\n\\n')\n",
    "    output_file.write('Dimensions NTRAITS=' + str(NTRAITS) + ';\\n')\n",
    "    output_file.write('Format labels=yes missing=? separator=Comma;\\n')\n",
    "    output_file.write('TraitLabels ')\n",
    "    for label in TraitLabels:\n",
    "        output_file.write(label + \" \")    \n",
    "    output_file.write(';\\n\\nMATRIX\\n')\n",
    "    \n",
    "    # Append location data in format required by PopART\n",
    "    for row in location_df.values:\n",
    "        output_file.write(\"\\n\" + '\\'' + row[0] + '\\'' + \"  \")\n",
    "        for value in row[1:]:\n",
    "            output_file.write(str(value) + \",\")"
   ]
  },
  {
   "cell_type": "markdown",
   "id": "f8b215c2",
   "metadata": {},
   "source": [
    "## run `add_location()` on Zhong et al. data to append location data"
   ]
  },
  {
   "cell_type": "code",
   "execution_count": null,
   "id": "5819a0c0",
   "metadata": {},
   "outputs": [],
   "source": [
    "add_location(\"polymorphic_sites.nex\", Zhong_locations_trimmed_df, 'polymorphic_sites_locations.nex')"
   ]
  },
  {
   "cell_type": "markdown",
   "id": "b11e308a",
   "metadata": {},
   "source": [
    "## For readability and visualization, replace GenBank accession numbers with haplotype numbers used by Zhong et al."
   ]
  },
  {
   "cell_type": "code",
   "execution_count": 229,
   "id": "fb59ace8",
   "metadata": {},
   "outputs": [],
   "source": [
    "# Create a data frame containing GB accesssion numbers and corresponding haplotype number\n",
    "Zhong_labels_df = Zhong_locations_df[['Haplotype','GenBank access no.']]\n",
    "\n",
    "# Find and replace GB accession with corresponding haplotype number\n",
    "with open('polymorphic_sites_locations.nex','r') as file:\n",
    "    data = file.read()\n",
    "    for row in Zhong_labels_df.values:\n",
    "        find = row[1]+\".1\" # Accession format from GenBank\n",
    "        find2 = row[1] # Accession format provided by authors in supplement CSV\n",
    "        replace = row[0] # Haplotype number used by authors\n",
    "        data = data.replace(find, replace)\n",
    "        data = data.replace(find2,replace)\n",
    "with open(r'polymorphic_sites_locations.nex','w') as file:\n",
    "    file.write(data)"
   ]
  }
 ],
 "metadata": {
  "kernelspec": {
   "display_name": "Python 3 (ipykernel)",
   "language": "python",
   "name": "python3"
  },
  "language_info": {
   "codemirror_mode": {
    "name": "ipython",
    "version": 3
   },
   "file_extension": ".py",
   "mimetype": "text/x-python",
   "name": "python",
   "nbconvert_exporter": "python",
   "pygments_lexer": "ipython3",
   "version": "3.10.9"
  }
 },
 "nbformat": 4,
 "nbformat_minor": 5
}
