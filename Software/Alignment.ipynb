{
 "cells": [
  {
   "cell_type": "code",
   "execution_count": 1,
   "id": "3e415816",
   "metadata": {},
   "outputs": [],
   "source": [
    "from Bio import SeqIO\n",
    "from Bio import AlignIO"
   ]
  },
  {
   "cell_type": "code",
   "execution_count": 2,
   "id": "e2995a2f",
   "metadata": {},
   "outputs": [
    {
     "name": "stdout",
     "output_type": "stream",
     "text": [
      "Alignment with 66 rows and 1433 columns\n",
      "TCAACAAATCATAAAGATATTGGAACATTATACTTTATTTTCGG...CAT KC690896.1\n",
      "TCAACAAATCATAAAGATATTGGAACATTATACTTTATTTTCGG...CAT KC690897.1\n",
      "TCAACAAATCATAAAGATATTGGAACATTATACTTTATTTTCGG...CAT KC690898.1\n",
      "TCAACAAATCATAAAGATATTGGAACATTATACTTTATTTTCGG...CAT KC690899.1\n",
      "TCAACAAATCATAAAGATATTGGAACATTATACTTTATTTTCGG...CAT KC690900.1\n",
      "TCAACAAATCATAAAGATATTGGAACATTATACTTTATTTTCGG...CAT KC690901.1\n",
      "TCAACAAATCATAAAGATATTGGAACATTATACTTTATTTTCGG...CAT KC690902.1\n",
      "TCAACAAATCATAAAGATATTGGAACATTATACTTTATTTTCGG...CAT KC690903.1\n",
      "TCAACAAATCATAAAGATATTGGAACATTATACTTTATTTTCGG...CAT KC690904.1\n",
      "TCAACAAATCATAAAGATATTGGAACATTATACTTTATTTTCGG...CAT KC690905.1\n",
      "TCAACAAATCATAAAGATATTGGAACATTATACTTTATTTTCGG...CAT KC690906.1\n",
      "TCAACAAATCATAAAGATATTGGAACATTATACTTTATTTTCGG...CAT KC690907.1\n",
      "TCAACAAATCATAAAGATATTGGAACATTATACTTTATTTTCGG...CAT KC690908.1\n",
      "TCAACAAATCATAAAGATATTGGAACATTATACTTTATTTTCGG...CAT KC690909.1\n",
      "TCAACAAATCATAAAGATATTGGAACATTATACTTTATTTTCGG...CAT KC690910.1\n",
      "TCAACAAATCATAAAGATATTGGAACATTATACTTTATTTTCGG...CAT KC690911.1\n",
      "TCAACAAATCATAAAGATATTGGAACATTATACTTTATTTTCGG...CAT KC690912.1\n",
      "TCAACAAATCATAAAGATATTGGAACATTATACTTTATTTTCGG...CAT KC690913.1\n",
      "...\n",
      "TCAACAAATCATAAAGATATTGGAACATTATACTTTATTTTCGG...CAT KC690961.1\n"
     ]
    },
    {
     "data": {
      "text/plain": [
       "1433"
      ]
     },
     "execution_count": 2,
     "metadata": {},
     "output_type": "execute_result"
    }
   ],
   "source": [
    "# Read in the haplotypes FASTA file\n",
    "haplotypes = AlignIO.read('Haplotypes.fasta', 'fasta')\n",
    "\n",
    "# Print the FASTA file for inspection\n",
    "print(haplotypes)"
   ]
  },
  {
   "cell_type": "code",
   "execution_count": 7,
   "id": "c899ec59",
   "metadata": {},
   "outputs": [],
   "source": [
    "#Check to make sure all seqs are the same length\n",
    "length = haplotypes.get_alignment_length()\n",
    "\n",
    "for record in haplotypes:\n",
    "    if len(record.seq) > haplotypes.get_alignment_length():\n",
    "        print(record)\n",
    "    if len(record.seq) < haplotypes.get_alignment_length(): \n",
    "        print(record)"
   ]
  }
 ],
 "metadata": {
  "kernelspec": {
   "display_name": "Python 3 (ipykernel)",
   "language": "python",
   "name": "python3"
  },
  "language_info": {
   "codemirror_mode": {
    "name": "ipython",
    "version": 3
   },
   "file_extension": ".py",
   "mimetype": "text/x-python",
   "name": "python",
   "nbconvert_exporter": "python",
   "pygments_lexer": "ipython3",
   "version": "3.10.9"
  }
 },
 "nbformat": 4,
 "nbformat_minor": 5
}
