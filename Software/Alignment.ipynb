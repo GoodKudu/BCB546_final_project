{
 "cells": [
  {
   "cell_type": "code",
   "execution_count": 38,
   "id": "3e415816",
   "metadata": {},
   "outputs": [],
   "source": [
    "from Bio import SeqIO\n",
    "import pandas as pd\n",
    "from Bio import AlignIO\n",
    "from Bio import Align\n",
    "from Bio.Align import PairwiseAligner\n",
    "from Bio.Align.Applications import MuscleCommandline"
   ]
  },
  {
   "cell_type": "code",
   "execution_count": 37,
   "id": "e2995a2f",
   "metadata": {},
   "outputs": [
    {
     "name": "stdout",
     "output_type": "stream",
     "text": [
      "Alignment with 66 rows and 1433 columns\n",
      "TCAACAAATCATAAAGATATTGGAACATTATACTTTATTTTCGG...CAT KC690896.1\n",
      "TCAACAAATCATAAAGATATTGGAACATTATACTTTATTTTCGG...CAT KC690897.1\n",
      "TCAACAAATCATAAAGATATTGGAACATTATACTTTATTTTCGG...CAT KC690898.1\n",
      "TCAACAAATCATAAAGATATTGGAACATTATACTTTATTTTCGG...CAT KC690899.1\n",
      "TCAACAAATCATAAAGATATTGGAACATTATACTTTATTTTCGG...CAT KC690900.1\n",
      "TCAACAAATCATAAAGATATTGGAACATTATACTTTATTTTCGG...CAT KC690901.1\n",
      "TCAACAAATCATAAAGATATTGGAACATTATACTTTATTTTCGG...CAT KC690902.1\n",
      "TCAACAAATCATAAAGATATTGGAACATTATACTTTATTTTCGG...CAT KC690903.1\n",
      "TCAACAAATCATAAAGATATTGGAACATTATACTTTATTTTCGG...CAT KC690904.1\n",
      "TCAACAAATCATAAAGATATTGGAACATTATACTTTATTTTCGG...CAT KC690905.1\n",
      "TCAACAAATCATAAAGATATTGGAACATTATACTTTATTTTCGG...CAT KC690906.1\n",
      "TCAACAAATCATAAAGATATTGGAACATTATACTTTATTTTCGG...CAT KC690907.1\n",
      "TCAACAAATCATAAAGATATTGGAACATTATACTTTATTTTCGG...CAT KC690908.1\n",
      "TCAACAAATCATAAAGATATTGGAACATTATACTTTATTTTCGG...CAT KC690909.1\n",
      "TCAACAAATCATAAAGATATTGGAACATTATACTTTATTTTCGG...CAT KC690910.1\n",
      "TCAACAAATCATAAAGATATTGGAACATTATACTTTATTTTCGG...CAT KC690911.1\n",
      "TCAACAAATCATAAAGATATTGGAACATTATACTTTATTTTCGG...CAT KC690912.1\n",
      "TCAACAAATCATAAAGATATTGGAACATTATACTTTATTTTCGG...CAT KC690913.1\n",
      "...\n",
      "TCAACAAATCATAAAGATATTGGAACATTATACTTTATTTTCGG...CAT KC690961.1\n"
     ]
    },
    {
     "data": {
      "text/plain": [
       "1433"
      ]
     },
     "execution_count": 37,
     "metadata": {},
     "output_type": "execute_result"
    }
   ],
   "source": [
    "haplotypes = AlignIO.read('Haplotypes.fasta', 'fasta')\n",
    "print(haplotypes)\n",
    "haplotypes.get_alignment_length()"
   ]
  },
  {
   "cell_type": "code",
   "execution_count": 35,
   "id": "5ce9c1a9",
   "metadata": {},
   "outputs": [
    {
     "name": "stdout",
     "output_type": "stream",
     "text": [
      "<Bio.Align.PairwiseAlignments object at 0x0000029D3CEA6590>\n"
     ]
    }
   ],
   "source": [
    "aligner = PairwiseAligner()\n",
    "alignments = aligner.align(haplotypes[0].seq, haplotypes[1].seq)\n",
    "print(alignments)\n",
    "#print(alignment)\n",
    "\n",
    "#for record in haplotypes:\n",
    "   # print(record.seq)\n",
    "    \n",
    "#haplotypes[1].seq"
   ]
  }
 ],
 "metadata": {
  "kernelspec": {
   "display_name": "Python 3 (ipykernel)",
   "language": "python",
   "name": "python3"
  },
  "language_info": {
   "codemirror_mode": {
    "name": "ipython",
    "version": 3
   },
   "file_extension": ".py",
   "mimetype": "text/x-python",
   "name": "python",
   "nbconvert_exporter": "python",
   "pygments_lexer": "ipython3",
   "version": "3.10.9"
  }
 },
 "nbformat": 4,
 "nbformat_minor": 5
}
